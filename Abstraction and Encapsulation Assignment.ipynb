{
 "cells": [
  {
   "cell_type": "markdown",
   "id": "667dcf42-c602-4127-99a9-a7e35e60121e",
   "metadata": {},
   "source": [
    "#### Q1. What is Abstraction in OOps? Explain with an example.\n",
    "\n",
    "#### Sol. Abstraction is a fundamental principle in object-oriented programming(OOP) that focuses on representing the essential features and behaviors of an object while hiding unnecessary details. It allows us to create abstract classes and interfaces that defined a contract or set of methods signtures without providing the implementation.\n",
    "\n",
    "#### An Example of Abstraction is given below:"
   ]
  },
  {
   "cell_type": "code",
   "execution_count": 8,
   "id": "cd508898-535b-425f-bf15-df381e6220ad",
   "metadata": {},
   "outputs": [],
   "source": [
    "from abc import ABC, abstractmethod\n",
    "\n",
    "class shape(ABC):\n",
    "    @abstractmethod\n",
    "    def calculate_area(self):\n",
    "        pass\n",
    "    \n",
    "    @abstractmethod\n",
    "    def calculate_perimeter(self):\n",
    "        pass\n",
    "    \n",
    "class Rectangle(shape):\n",
    "    def __init__(self, length, width):\n",
    "        self.length= length\n",
    "        self.width= width\n",
    "     \n",
    "    def calculate_area(self):\n",
    "        return self.length * self.width\n",
    "    \n",
    "    def calculate_perimeter(self):\n",
    "        return 2 * (self.length+self.width)\n",
    "    \n",
    "class Circle(shape):\n",
    "    def __init__(self, radius):\n",
    "        self.radius= radius\n",
    "        \n",
    "    def calculate_area(self):\n",
    "        return 3.14 * self.radius**2\n",
    "    \n",
    "    def calculate_perimeter(self):\n",
    "        return 2 * 3.14 * self.radius"
   ]
  },
  {
   "cell_type": "code",
   "execution_count": 9,
   "id": "07f39b57-a317-43db-9909-fb6aad3f563d",
   "metadata": {},
   "outputs": [
    {
     "name": "stdout",
     "output_type": "stream",
     "text": [
      "28\n",
      "22\n"
     ]
    }
   ],
   "source": [
    "rectangle = Rectangle(7,4)\n",
    "print(rectangle.calculate_area())\n",
    "print(rectangle.calculate_perimeter())"
   ]
  },
  {
   "cell_type": "code",
   "execution_count": 10,
   "id": "121a493e-30b7-42db-9ce3-b498ff2eec4e",
   "metadata": {},
   "outputs": [
    {
     "name": "stdout",
     "output_type": "stream",
     "text": [
      "78.5\n",
      "31.400000000000002\n"
     ]
    }
   ],
   "source": [
    "circle= Circle(5)\n",
    "print(circle.calculate_area())\n",
    "print(circle.calculate_perimeter())"
   ]
  },
  {
   "cell_type": "markdown",
   "id": "dd0771d4-681a-43b6-bc9b-3528516d015e",
   "metadata": {},
   "source": [
    "#### Q2. Differentiate between Abstraction and Encapsulation. Explain with an example.\n",
    "\n",
    "#### Sol. Abstraction and encapsulation are both important concepts in object-oriented programming(OOP), but they serve different purposes and have distinct characteristics. Let's differentiate between abstraction and encapsulation.\n",
    "\n",
    "#### 1.Abstraction: \n",
    "* Abstraction focuses on hiding unnecessary details and exposing only the essential features and behaviors of an object.\n",
    "\n",
    "* It allows us to work with high-level concepts and interect with objects based on their essential characteristics without getting into the implementation specifics.\n",
    "\n",
    "* Abstraction is achieved through abstract classes and interfaces in OOP, where the abstract class defines a contract or set of method signature without providing the implementation.\n",
    "\n",
    "* The main goal of abstraction is to simplify complex system by breaking them down into manageable and understandable components.\n",
    "\n",
    "#### Example:"
   ]
  },
  {
   "cell_type": "code",
   "execution_count": 1,
   "id": "eff6890e-d35f-4abf-9b2b-06c44d6867bb",
   "metadata": {},
   "outputs": [],
   "source": [
    "from abc import ABC, abstractmethod\n",
    "\n",
    "class BankAccount(ABC):\n",
    "    def __init__(self, account_number, balance):\n",
    "        self.account_number= account_number\n",
    "        self.balance= balance\n",
    "        \n",
    "    @abstractmethod\n",
    "    def deposite(self, amount):\n",
    "        pass\n",
    "    \n",
    "    @abstractmethod\n",
    "    def withdraw(self, amount):\n",
    "        pass"
   ]
  },
  {
   "cell_type": "markdown",
   "id": "aad4926a-4a16-440d-831f-b310b0890fa3",
   "metadata": {},
   "source": [
    "#### 2. Encapsulation: \n",
    "* Encapsulation is the bundling of data(attributes) and methods(behavior) together within a class, providing a protective barrier around the data. \n",
    "\n",
    "* It allows us to control the access to the data by using access modifiers (such as public, private, and protected) and provides data integrity and security.\n",
    "\n",
    "* Encapsulation helps in managing the complexity of a system by grouping related data and methods together and preventing direct access to the internal implementation details.\n",
    "\n",
    "#### Example:"
   ]
  },
  {
   "cell_type": "code",
   "execution_count": 2,
   "id": "d6096bd6-c574-4168-b7cb-04cfb55812bc",
   "metadata": {},
   "outputs": [],
   "source": [
    "class BankAccount:\n",
    "    def __init__(self, account_number, initial_balance):\n",
    "        self.account_number= account_number\n",
    "        self.initial_balance= initial_balance\n",
    "        \n",
    "    def deposite(self, amount):\n",
    "        self.balance +=amount\n",
    "        \n",
    "    def withdraw(self, amount):\n",
    "        if amount <= self._balance:\n",
    "            self.balance -= amount\n",
    "        \n",
    "        else:\n",
    "            print('insufficient funds')\n",
    "        \n",
    "    def get_balance(self):\n",
    "        return self.balance"
   ]
  },
  {
   "cell_type": "markdown",
   "id": "1fd1ef41-d5df-4ea3-be6d-4f3c71ba48a3",
   "metadata": {},
   "source": [
    "#### Q3. What is abc module in python? Why is it used?\n",
    "\n",
    "#### Sol. The 'abc' module in python stands for 'Abstract Base Classes', It is a built-in modulw that provides the infrastructure for defining abstract base classes(ABCs). Abstact base classes are classes that cannot be instantiated directly but serves as a blueprint for other classes. They define a common interface or set of methods that subclasses are expected to implement. The 'abc' module provide tools for creating abstract base classes and enforcing their usage inthe inheritance hierarchy.\n",
    "\n",
    "#### The 'abc' module is used for the following purposes:\n",
    "\n",
    "* Defining Abstract Base Classes: The 'abc' module provide the 'abc' class,which can be used as a base class for creating abstract base classes. Subclasses of 'ABC' can define abstract methods using '@abstractmethod' decorator. \n",
    "\n",
    "* Enforcing Interface Contracts: Abstract base classes define a contract or set of methods that subclasses must implement. By defining abstract method in the base class, the 'abc' module ensures that any subclass that claims to implement the abstract base class must provide the required methodes. \n",
    "\n",
    "* Type Checking and Duck Typing: Abstract base classes can be used for type checking and to ensure that object adhere to a specific interface. By using abstract base classes as type hints or function annotations, developers can indicate that a parameter or return value should be an instance of a specific abstract base class or its subclasses. This allows for better code clarity, documentation, and type safety.\n",
    "\n",
    "#### An example demonstrating the usage of the 'abc' module to define and enforce an abstract base class:"
   ]
  },
  {
   "cell_type": "code",
   "execution_count": 1,
   "id": "698e2093-0fef-4a61-9239-e16297e8d100",
   "metadata": {},
   "outputs": [],
   "source": [
    "from abc import ABC, abstractmethod\n",
    "\n",
    "class shape(ABC):\n",
    "    @abstractmethod\n",
    "    def calculate_area(self):\n",
    "        pass\n",
    "    \n",
    "    @abstractmethod\n",
    "    def calculate_perimeter(self):\n",
    "        pass\n",
    "    \n",
    "class Rectangle(shape):\n",
    "    def __init__(self, length, width):\n",
    "        self.length= length\n",
    "        self.width= width\n",
    "     \n",
    "    def calculate_area(self):\n",
    "        return self.length * self.width\n",
    "    \n",
    "    def calculate_perimeter(self):\n",
    "        return 2 * (self.length+self.width)\n",
    "    \n",
    "class Circle(shape):\n",
    "    def __init__(self, radius):\n",
    "        self.radius= radius\n",
    "        \n",
    "    def calculate_area(self):\n",
    "        return 3.14 * self.radius**2\n",
    "    \n",
    "    def calculate_perimeter(self):\n",
    "        return 2 * 3.14 * self.radius\n",
    "    "
   ]
  },
  {
   "cell_type": "code",
   "execution_count": 2,
   "id": "79ddb3cc-6222-44c2-8e6b-247da708460b",
   "metadata": {},
   "outputs": [
    {
     "name": "stdout",
     "output_type": "stream",
     "text": [
      "28\n",
      "22\n"
     ]
    }
   ],
   "source": [
    "rectangle = Rectangle(7,4)\n",
    "print(rectangle.calculate_area())\n",
    "print(rectangle.calculate_perimeter())"
   ]
  },
  {
   "cell_type": "code",
   "execution_count": 3,
   "id": "140ec436-6f7d-4fcc-a10a-3199ba98cbe0",
   "metadata": {},
   "outputs": [
    {
     "name": "stdout",
     "output_type": "stream",
     "text": [
      "78.5\n",
      "31.400000000000002\n"
     ]
    }
   ],
   "source": [
    "circle= Circle(5)\n",
    "print(circle.calculate_area())\n",
    "print(circle.calculate_perimeter())"
   ]
  },
  {
   "cell_type": "markdown",
   "id": "290af2e9-2830-49c0-867f-af77a4028115",
   "metadata": {},
   "source": [
    "#### Q4. How can we achieve data abstraction?\n",
    "\n",
    "#### Sol. Data astraction in python can be achieved throught the use of classes, specifically by difining abstract classes and interfaces. Here's how ypu can achieve data abstraction:\n",
    "\n",
    "* Define Abstract Base class(ABC): An abstract base class serves as a blueprint for other classes and defines a common interface or set of methods that subclasses are expected to implement. In Python, you can deffine an abstract base class by inheriting from the 'abc.ABC' class or using the '@abc.abstractmethod' decorator.\n",
    "\n",
    "* Declare Abstract Methods: Abstract methods are methods that don't have an implementation in the abstract base class but must be implemented by the concrete subclasses. You can declare abstract methods in the abstract base class using '@abstractmethod' decorator. Subclasses of the abstract base class must provide the implementation for these abstract methods.\n",
    "\n",
    "* Instantiate Concrete Subclasses: Conctete subclasses are the actual classes that provide the implementation for the abstract methods defined in the abstract base class. These subclasses inherit from the abstract base class and implement the required methods.\n",
    "\n",
    "#### By following these steps, you can achieve data abstraction in Python. An example demonstrating data abstraction using abstract base classes:"
   ]
  },
  {
   "cell_type": "code",
   "execution_count": 4,
   "id": "275e49ee-11c0-442c-9bcb-c97abb966f84",
   "metadata": {},
   "outputs": [],
   "source": [
    "from abc import ABC, abstractmethod\n",
    "\n",
    "class Animal(ABC):\n",
    "    @abstractmethod\n",
    "    def make_sound(self):\n",
    "        pass\n",
    "    \n",
    "class Cat(Animal):\n",
    "    def make_sound(self):\n",
    "        return 'Meow'\n",
    "    \n",
    "class Dog(Animal):\n",
    "    def make_sound(self):\n",
    "        return 'Woof'\n",
    "    \n",
    "class Cow(Animal):\n",
    "    def make_sound(self):\n",
    "        return 'Moo'"
   ]
  },
  {
   "cell_type": "code",
   "execution_count": 5,
   "id": "0a03a97d-f0dd-4809-866a-63d497d562ed",
   "metadata": {},
   "outputs": [
    {
     "name": "stdout",
     "output_type": "stream",
     "text": [
      "Meow\n"
     ]
    }
   ],
   "source": [
    "cat=Cat()\n",
    "print(cat.make_sound())"
   ]
  },
  {
   "cell_type": "code",
   "execution_count": 6,
   "id": "2dec9010-f7dd-4b54-9fbd-bc9561863049",
   "metadata": {},
   "outputs": [
    {
     "name": "stdout",
     "output_type": "stream",
     "text": [
      "Woof\n"
     ]
    }
   ],
   "source": [
    "dog= Dog()\n",
    "print(dog.make_sound())"
   ]
  },
  {
   "cell_type": "code",
   "execution_count": 7,
   "id": "c3bbcee4-4191-443e-915c-71c0d38a1567",
   "metadata": {},
   "outputs": [
    {
     "name": "stdout",
     "output_type": "stream",
     "text": [
      "Moo\n"
     ]
    }
   ],
   "source": [
    "cow= Cow()\n",
    "print(cow.make_sound())"
   ]
  },
  {
   "cell_type": "markdown",
   "id": "6aca727c-cd65-40ef-8cf2-61125f635ff6",
   "metadata": {
    "tags": []
   },
   "source": [
    "#### Q5. Can we create an instance of an abstract class? Explain your answer.\n",
    "\n",
    "#### Sol. No, we cannot create an instance of an abstract class in Python. An abstract class is a class that is meant to be a blueprint for other classes but cannot be instantiated directly. It serves as a template for creating subclasses and defining a common interface or set of methods that the subclasses should implement.\n",
    "\n",
    "#### Attempting to create an instance of an abstract class in Python will result in a 'TypeError' with the message 'Can't instantiate abstract class MyAbstractClass with abstract method my_method'.\n",
    "\n",
    "#### Abstract classes are designed to be inherited from and provide a structure for subclasses to follow. They typically contain one or more abstract methods, which are methods declared without an implementation in the abstract class. Subclasses of the abstract class must provide the implementation for these abstract methods.\n",
    "\n",
    "#### By preventing the instantiation of abstract classes, Python enforces the concept of abstraction and encourages the creation of concrete subclasses that implement the abstract methods defined in the abstract base class.\n",
    "\n",
    "#### An example to illustrate the inability to create an instance of an abstract class:"
   ]
  },
  {
   "cell_type": "code",
   "execution_count": 1,
   "id": "b2da04df-3937-470e-b89a-8b62931fe2cf",
   "metadata": {},
   "outputs": [],
   "source": [
    "from abc import ABC, abstractmethod\n",
    "\n",
    "class MyAbstractClass(ABC):\n",
    "    @abstractmethod\n",
    "    def my_method(self):\n",
    "        pass"
   ]
  },
  {
   "cell_type": "code",
   "execution_count": 2,
   "id": "fcb45a7d-cf65-4160-9407-972e2a6b6f0a",
   "metadata": {},
   "outputs": [
    {
     "ename": "TypeError",
     "evalue": "Can't instantiate abstract class MyAbstractClass with abstract method my_method",
     "output_type": "error",
     "traceback": [
      "\u001b[0;31m---------------------------------------------------------------------------\u001b[0m",
      "\u001b[0;31mTypeError\u001b[0m                                 Traceback (most recent call last)",
      "Cell \u001b[0;32mIn[2], line 1\u001b[0m\n\u001b[0;32m----> 1\u001b[0m obj\u001b[38;5;241m=\u001b[39m \u001b[43mMyAbstractClass\u001b[49m\u001b[43m(\u001b[49m\u001b[43m)\u001b[49m\n",
      "\u001b[0;31mTypeError\u001b[0m: Can't instantiate abstract class MyAbstractClass with abstract method my_method"
     ]
    }
   ],
   "source": [
    "obj= MyAbstractClass()"
   ]
  }
 ],
 "metadata": {
  "kernelspec": {
   "display_name": "Python 3 (ipykernel)",
   "language": "python",
   "name": "python3"
  },
  "language_info": {
   "codemirror_mode": {
    "name": "ipython",
    "version": 3
   },
   "file_extension": ".py",
   "mimetype": "text/x-python",
   "name": "python",
   "nbconvert_exporter": "python",
   "pygments_lexer": "ipython3",
   "version": "3.10.8"
  }
 },
 "nbformat": 4,
 "nbformat_minor": 5
}
